{
 "cells": [
  {
   "cell_type": "code",
   "execution_count": 1,
   "metadata": {},
   "outputs": [],
   "source": [
    "import numpy as np\n"
   ]
  },
  {
   "cell_type": "code",
   "execution_count": 2,
   "metadata": {},
   "outputs": [
    {
     "data": {
      "text/plain": [
       "<module 'numpy' from '/home/bishal/anaconda3/lib/python3.7/site-packages/numpy/__init__.py'>"
      ]
     },
     "execution_count": 2,
     "metadata": {},
     "output_type": "execute_result"
    }
   ],
   "source": [
    "np"
   ]
  },
  {
   "cell_type": "code",
   "execution_count": 3,
   "metadata": {},
   "outputs": [],
   "source": [
    "a = np.array([['a', 'b', 'c', 'd'], ['e', 'f', 'g', 'h'], ['i', 'j', 'k', 'l'], ['m', 'n', 'o', 'p']])"
   ]
  },
  {
   "cell_type": "code",
   "execution_count": 4,
   "metadata": {},
   "outputs": [
    {
     "data": {
      "text/plain": [
       "array([['a', 'b', 'c', 'd'],\n",
       "       ['e', 'f', 'g', 'h'],\n",
       "       ['i', 'j', 'k', 'l'],\n",
       "       ['m', 'n', 'o', 'p']], dtype='<U1')"
      ]
     },
     "execution_count": 4,
     "metadata": {},
     "output_type": "execute_result"
    }
   ],
   "source": [
    "a"
   ]
  },
  {
   "cell_type": "code",
   "execution_count": 5,
   "metadata": {},
   "outputs": [
    {
     "data": {
      "text/plain": [
       "2"
      ]
     },
     "execution_count": 5,
     "metadata": {},
     "output_type": "execute_result"
    }
   ],
   "source": [
    "a.ndim\n"
   ]
  },
  {
   "cell_type": "code",
   "execution_count": 6,
   "metadata": {},
   "outputs": [
    {
     "data": {
      "text/plain": [
       "dtype('<U1')"
      ]
     },
     "execution_count": 6,
     "metadata": {},
     "output_type": "execute_result"
    }
   ],
   "source": [
    "a.dtype"
   ]
  },
  {
   "cell_type": "code",
   "execution_count": 8,
   "metadata": {},
   "outputs": [],
   "source": [
    "chk = 'efj'\n",
    "valids = ['efj']\n",
    "corrects = []\n"
   ]
  },
  {
   "cell_type": "code",
   "execution_count": 9,
   "metadata": {},
   "outputs": [
    {
     "data": {
      "text/plain": [
       "'e'"
      ]
     },
     "execution_count": 9,
     "metadata": {},
     "output_type": "execute_result"
    }
   ],
   "source": [
    "chk[0]"
   ]
  },
  {
   "cell_type": "code",
   "execution_count": 10,
   "metadata": {},
   "outputs": [
    {
     "data": {
      "text/plain": [
       "array([['a', 'b', 'c', 'd'],\n",
       "       ['e', 'f', 'g', 'h'],\n",
       "       ['i', 'j', 'k', 'l'],\n",
       "       ['m', 'n', 'o', 'p']], dtype='<U1')"
      ]
     },
     "execution_count": 10,
     "metadata": {},
     "output_type": "execute_result"
    }
   ],
   "source": [
    "a\n"
   ]
  },
  {
   "cell_type": "code",
   "execution_count": 14,
   "metadata": {},
   "outputs": [],
   "source": [
    "a[1][2] = 'e'"
   ]
  },
  {
   "cell_type": "code",
   "execution_count": 15,
   "metadata": {},
   "outputs": [
    {
     "data": {
      "text/plain": [
       "array([['a', 'b', 'c', 'd'],\n",
       "       ['e', 'f', 'e', 'h'],\n",
       "       ['i', 'j', 'k', 'l'],\n",
       "       ['m', 'n', 'o', 'p']], dtype='<U1')"
      ]
     },
     "execution_count": 15,
     "metadata": {},
     "output_type": "execute_result"
    }
   ],
   "source": [
    "a"
   ]
  },
  {
   "cell_type": "code",
   "execution_count": 19,
   "metadata": {},
   "outputs": [
    {
     "data": {
      "text/plain": [
       "(4, 4)"
      ]
     },
     "execution_count": 19,
     "metadata": {},
     "output_type": "execute_result"
    }
   ],
   "source": [
    "a.shape"
   ]
  },
  {
   "cell_type": "code",
   "execution_count": 43,
   "metadata": {},
   "outputs": [
    {
     "name": "stdout",
     "output_type": "stream",
     "text": [
      "[[1, 0]]\n",
      "[[1, 0], [1, 2]]\n",
      "[[1, 0], [1, 2]]\n"
     ]
    }
   ],
   "source": [
    "start_points = []\n",
    "for i in range(a.shape[0]):\n",
    "    for j in range(a.shape[1]):\n",
    "#         print(i, j)\n",
    "#         print(a[i][j])\n",
    "        if a[i][j] == chk[0]:\n",
    "#             print(i,j)\n",
    "            start_points.append([i,j])\n",
    "            print(start_points)\n",
    "print(start_points)\n"
   ]
  },
  {
   "cell_type": "code",
   "execution_count": 49,
   "metadata": {},
   "outputs": [
    {
     "name": "stdout",
     "output_type": "stream",
     "text": [
      "[1, 1, 0, 1]\n"
     ]
    }
   ],
   "source": [
    "if len(start_points) == 0:\n",
    "    print('no match, EXIT')\n",
    "moves = [1, 1, 1, 1] # [top, bottom, left, right]\n",
    "for place in start_points:\n",
    "    if place[0] == 0:\n",
    "        moves[0] = 0\n",
    "    elif place[0] == 3:\n",
    "        moves[1] = 0\n",
    "    if place[1] == 0:\n",
    "        moves[2] = 0\n",
    "    elif place[1] == 3:\n",
    "        moves[3] = 0\n",
    "    print(moves)\n",
    "    break"
   ]
  },
  {
   "cell_type": "code",
   "execution_count": 48,
   "metadata": {},
   "outputs": [],
   "source": [
    "def find_moves(place, reserved_moves):\n",
    "    moves = [1, 1, 1, 1]\n",
    "    if place[0] == 0:\n",
    "        moves[0] = 0\n",
    "    elif place[0] == 3:\n",
    "        moves[1] = 0\n",
    "    if place[1] == 0:\n",
    "        moves[2] = 0\n",
    "    elif place[1] == 3:\n",
    "        moves[3] = 0\n",
    "    return moves\n",
    "    "
   ]
  },
  {
   "cell_type": "code",
   "execution_count": 51,
   "metadata": {},
   "outputs": [],
   "source": [
    "arr = a"
   ]
  },
  {
   "cell_type": "code",
   "execution_count": null,
   "metadata": {},
   "outputs": [],
   "source": [
    "def top(chk, arr, post, reserved_moves):\n",
    "#     moves = [1,1,1,1]\n",
    "    \n",
    "    reserved_moves.append(post)\n",
    "    next_move = [post[0]-1, post[1]]\n",
    "    if arr[next_move[0], next_move[1]] == chk[1]:\n",
    "        reserved_moves.append(next_move)\n",
    "        moves = find_moves(next_move, reserved_moves)\n",
    "        check_moves_call_func(moves)\n",
    "        \n",
    "    "
   ]
  },
  {
   "cell_type": "code",
   "execution_count": 55,
   "metadata": {},
   "outputs": [
    {
     "data": {
      "text/plain": [
       "True"
      ]
     },
     "execution_count": 55,
     "metadata": {},
     "output_type": "execute_result"
    }
   ],
   "source": [
    "arr[1][1] == arr[1,1]"
   ]
  },
  {
   "cell_type": "code",
   "execution_count": 60,
   "metadata": {},
   "outputs": [],
   "source": [
    "n = [1,1]"
   ]
  },
  {
   "cell_type": "code",
   "execution_count": 65,
   "metadata": {},
   "outputs": [
    {
     "data": {
      "text/plain": [
       "array([['e', 'f', 'e', 'h'],\n",
       "       ['e', 'f', 'e', 'h']], dtype='<U1')"
      ]
     },
     "execution_count": 65,
     "metadata": {},
     "output_type": "execute_result"
    }
   ],
   "source": [
    "arr[np.array(n)]"
   ]
  },
  {
   "cell_type": "code",
   "execution_count": null,
   "metadata": {},
   "outputs": [],
   "source": []
  },
  {
   "cell_type": "code",
   "execution_count": null,
   "metadata": {},
   "outputs": [],
   "source": [
    "def check_moves_call_func(moves):\n",
    "    if moves[0] == 1:\n",
    "        top()\n",
    "    if move[1] == 1:\n",
    "        bottom()\n",
    "    if moves[2] == 1:\n",
    "        left()\n",
    "    if moves[3] == 1:\n",
    "        right()"
   ]
  },
  {
   "cell_type": "code",
   "execution_count": null,
   "metadata": {},
   "outputs": [],
   "source": [
    "\n",
    "\n"
   ]
  },
  {
   "cell_type": "code",
   "execution_count": 150,
   "metadata": {},
   "outputs": [
    {
     "name": "stdout",
     "output_type": "stream",
     "text": [
      "[[2, 1]]\n",
      "[[2, 1]] iniside find start points\n",
      "inside find start moves\n",
      "[]\n",
      "current position inside find start moves 0\n",
      "inside for loop of find start moves\n",
      "inside find moves initial [] position :  0 [2, 1] True\n",
      "HERERERE\n",
      "inside find moves chk value of moves [1, 1, 1, 1]\n",
      "[1, 1, 1, 1] iniside find moves\n",
      "0 current position 000000000000000000000\n",
      "hello thererererer -=--\n",
      "inside top\n",
      "inside top \n",
      "inside topsssssssssss\n",
      "inside find moves initial [] position :  1 [1, 1] True\n",
      "HERERERE\n",
      "inside find moves chk value of moves [1, 1, 1, 1]\n",
      "[1, 1, 1, 1] iniside find moves\n",
      "1 current position 000000000000000000000\n",
      "hello thererererer -=--\n",
      "inside top\n",
      "inside top \n",
      "2 current position -=-=-=-=-= value1 ::::: True\n",
      "[] 2\n",
      "true check move call func\n",
      "[] 2\n",
      "2 current position -=-=-=-=-= value1 ::::: None\n",
      "[] 2\n",
      "find start moves DEBUG dfd\n"
     ]
    }
   ],
   "source": [
    "arr = [['a', 'b', 'c', 'd'],\n",
    "       ['e', 'f', 'e', 'h'],\n",
    "       ['i', 'j', 'k', 'l'],\n",
    "       ['m', 'n', 'o', 'p']]\n",
    "\n",
    "chk = 'jfb'\n",
    "\n",
    "current_position = 0\n",
    "\n",
    "reserved_moves = []\n",
    "\n",
    "valid_answers = []\n",
    "\n",
    "def find_start_position():\n",
    "    start_points = []\n",
    "    for i in range(4):\n",
    "        for j in range(4):\n",
    "    #         print(i, j)\n",
    "    #         print(a[i][j])\n",
    "            if arr[i][j] == chk[0]:\n",
    "    #             print(i,j)\n",
    "                start_points.append([i,j])\n",
    "                print(start_points)\n",
    "    print(start_points, 'iniside find start points')\n",
    "    return start_points\n",
    "\n",
    "\n",
    "start_positions = find_start_position()\n",
    "\n",
    "\n",
    "def find_moves(position):\n",
    "    global current_position\n",
    "    print('inside find moves initial', reserved_moves, 'position : ',current_position, position, position not in reserved_moves)\n",
    "    moves = [1, 1, 1, 1] # top, bottom, left, right\n",
    "    if position not in reserved_moves: \n",
    "        print(\"HERERERE\")\n",
    "        if position[0] == 0:\n",
    "            moves[0] = 0\n",
    "        elif position[0] == 3:\n",
    "            moves[1] = 0\n",
    "        if position[1] == 0:\n",
    "            moves[2] = 0\n",
    "        elif position[1] == 3:\n",
    "            moves[3] = 0\n",
    "        print('inside find moves chk value of moves', moves)\n",
    "    else:\n",
    "        print('+++++++++++++++++++++++++++++++++++++++++++++++')\n",
    "        moves = [0,0,0,0]\n",
    "    print(moves, 'iniside find moves')\n",
    "    return moves\n",
    "\n",
    "\n",
    "def check_moves_call_func(position, moves):\n",
    "    global current_position\n",
    "    global reserved_moves\n",
    "    \n",
    "#     value1, value2, value3, value4 = False, False, False, False\n",
    "    print(current_position, 'current position 000000000000000000000')\n",
    "    if (current_position + 1) <= (len(chk)):\n",
    "        print('hello thererererer -=--')\n",
    "        if moves[0] == 1:\n",
    "            current_position += 1\n",
    "            value1 = top(position)\n",
    "            print(current_position, 'current position -=-=-=-=-=', 'value1 :::::', value1)\n",
    "            print(reserved_moves, current_position)\n",
    "            if value1 == True:\n",
    "                print('true check move call func')\n",
    "                print(reserved_moves, current_position)\n",
    "                return True\n",
    "            elif value1 == False:\n",
    "                current_position -= 1\n",
    "            \n",
    "#             if moves[1] == 1:\n",
    "#                 current_position += 1\n",
    "#                 bottom(position)\n",
    "#                 current_position -= 1\n",
    "#             if moves[2] == 1:\n",
    "#                 current_position += 1\n",
    "#                 left(position)\n",
    "#                 current_position -= 1\n",
    "#             if moves[3] == 1:\n",
    "#                 current_position += 1\n",
    "#                 right(position)\n",
    "#                 current_position -= 1\n",
    "    if value1 == 'continue' :\n",
    "        print('false check move call func')\n",
    "        return 'continue'\n",
    "    \n",
    "      \n",
    "            \n",
    "def find_start_moves(start_positions):\n",
    "    print('inside find start moves')\n",
    "    global reserved_moves\n",
    "    global current_position\n",
    "    print(reserved_moves)\n",
    "    print('current position inside find start moves', current_position)\n",
    "    if len(start_positions) == 0:\n",
    "        return None\n",
    "    for position in start_positions:\n",
    "        print('inside for loop of find start moves')\n",
    "#         reserved_moves.append(position)\n",
    "        moves = find_moves(position)\n",
    "        value = check_moves_call_func(position, moves)\n",
    "        if value is False:\n",
    "            current_position = 0\n",
    "            reserved_moves.append(position)\n",
    "            continue\n",
    "        elif value is True and current_position == len(chk)-1:\n",
    "            current_position = 0\n",
    "            print(reserved_moves,'hrere reserved moves')\n",
    "            reserved_moves = []\n",
    "            valid_answers.append(chk)\n",
    "            print('you found the right answer, chk timer and do the needful if player wants to play again')\n",
    "        else:\n",
    "            print('find start moves DEBUG dfd')\n",
    "            \n",
    "            \n",
    "        \n",
    "        \n",
    "def top(position):\n",
    "    print('inside top')\n",
    "    global reserved_moves\n",
    "    global current_position\n",
    "    global valid_answers\n",
    "    print('inside top ')\n",
    "    next_move = [position[0]-1, position[1]]\n",
    "    if (arr[next_move[0]][next_move[1]] == chk[current_position]) and (current_position == len(chk) - 1):\n",
    "        return True\n",
    "    elif (current_position == len(chk) - 1) and (arr[next_move[0]][next_move[1]] != chk[current_position]):\n",
    "        return False\n",
    "    elif arr[next_move[0]][next_move[1]] != chk[current_position]:\n",
    "        return False\n",
    "    elif arr[next_move[0]][next_move[1]] == chk[current_position]:\n",
    "        print('inside topsssssssssss')\n",
    "#         reserved_moves.append(next_move)\n",
    "        moves = find_moves(next_move)\n",
    "        check_moves_call_func(next_move, moves)\n",
    "        \n",
    "\n",
    "    \n",
    "\n",
    "\n",
    "\n",
    "find_start_moves(start_positions)    \n",
    "        \n",
    "        \n",
    "        \n",
    "    "
   ]
  },
  {
   "cell_type": "code",
   "execution_count": 15,
   "metadata": {},
   "outputs": [
    {
     "name": "stdout",
     "output_type": "stream",
     "text": [
      "[1, 0, 1, 1]\n",
      "inside top\n",
      "top :: 1 k\n",
      "inside topsssssssssss\n",
      "[1, 1, 1, 1]\n",
      "inside top\n",
      "top :: 2 e\n",
      "inside topsssssssssss\n",
      "[1, 1, 1, 1]\n",
      "inside top\n",
      "top :: 3 c\n",
      "trueee\n",
      "true check move call top func\n",
      "hereeee\n",
      "inside bottom 4\n",
      "first false o\n",
      "this is called \n",
      "None find start moves\n",
      "not matched\n"
     ]
    }
   ],
   "source": [
    "arr = [['a', 'b', 'c', 'd'],\n",
    "       ['e', 'f', 'e', 'h'],\n",
    "       ['i', 'j', 'k', 'l'],\n",
    "       ['m', 'n', 'o', 'p']]\n",
    "\n",
    "chk = 'okec'\n",
    "\n",
    "current_position = 0\n",
    "\n",
    "reserved_moves = []\n",
    "\n",
    "valid_answers = []\n",
    "\n",
    "validated = False\n",
    "\n",
    "def find_start_position():\n",
    "    start_positions = []\n",
    "    for i in range(4):\n",
    "        for j in range(4):\n",
    "            if arr[i][j] == chk[0]:\n",
    "                start_positions.append([i,j])\n",
    "    return start_positions\n",
    "\n",
    "\n",
    "start_positions = find_start_position()\n",
    "\n",
    "\n",
    "def find_moves(position):\n",
    "    reserved_moves = []\n",
    "    moves = [1, 1, 1, 1] # top, bottom, left, right\n",
    "    if position not in reserved_moves: \n",
    "        if position[0] == 0:\n",
    "            moves[0] = 0\n",
    "        elif position[0] == 3:\n",
    "            moves[1] = 0\n",
    "        if position[1] == 0:\n",
    "            moves[2] = 0\n",
    "        elif position[1] == 3:\n",
    "            moves[3] = 0\n",
    "    else:\n",
    "        moves = [0,0,0,0]\n",
    "    print(moves)\n",
    "    return moves\n",
    "\n",
    "\n",
    "def check_moves_call_func(position, moves):\n",
    "    global current_position\n",
    "    global validated\n",
    "#     global reserved_moves\n",
    "    \n",
    "    if (current_position + 1) <= (len(chk)):\n",
    "        if moves[0] == 1:\n",
    "            current_position += 1\n",
    "            value1 = top(position)\n",
    "            if value1 == True:\n",
    "                print('true check move call top func')\n",
    "                validated = True\n",
    "                return True\n",
    "            elif value1 == False:\n",
    "                current_position -= 1\n",
    "            value2 = False\n",
    "            \n",
    "        if moves[1] == 1:\n",
    "            print('hereeee')\n",
    "            current_position += 1\n",
    "            value2 = bottom(position)\n",
    "            if value2 == True:\n",
    "                print('true check move call bottom func')\n",
    "                validated = True\n",
    "                return True\n",
    "            elif value2 == False:\n",
    "                current_position -= 1\n",
    "            value1 = False\n",
    "        \n",
    "    if not(value1 or value2):\n",
    "        validated = False\n",
    "\n",
    "\n",
    "def find_start_moves(start_positions):\n",
    "#     global reserved_moves\n",
    "    global current_position\n",
    "    global validated\n",
    "#     print(reserved_moves)\n",
    "    if len(start_positions) == 0:\n",
    "        return None\n",
    "    for position in start_positions:\n",
    "        moves = find_moves(position)\n",
    "        value = check_moves_call_func(position, moves)\n",
    "        print('this is called ')\n",
    "        if value is False:\n",
    "            current_position = 0\n",
    "#             reserved_moves.append(position)\n",
    "            continue\n",
    "        elif validated:\n",
    "#             current_position = 0\n",
    "#             reserved_moves = []\n",
    "#             valid_answers.append(chk)\n",
    "            print('you found the right answer, chk timer and do the needful if player wants to play again')\n",
    "        else:\n",
    "            print(value, 'find start moves')\n",
    "            print('not matched')\n",
    "       \n",
    "        \n",
    "def top(position):\n",
    "    print('inside top')\n",
    "    global reserved_moves\n",
    "    global current_position\n",
    "    global valid_answers\n",
    "    next_move = [position[0]-1, position[1]]\n",
    "    print('top ::', current_position, chk[current_position])\n",
    "    if (arr[next_move[0]][next_move[1]] == chk[current_position]) and (current_position == len(chk) - 1):\n",
    "        print('trueee')\n",
    "        return True\n",
    "    elif (current_position == len(chk) - 1) and (arr[next_move[0]][next_move[1]] != chk[current_position]):\n",
    "        print('first false', arr[next_move[0]][next_move[1]])\n",
    "        return False\n",
    "    elif arr[next_move[0]][next_move[1]] != chk[current_position]:\n",
    "        print('second false')\n",
    "        return False\n",
    "    elif arr[next_move[0]][next_move[1]] == chk[current_position]:\n",
    "        print('inside topsssssssssss')\n",
    "#         reserved_moves.append(next_move)\n",
    "        moves = find_moves(next_move)\n",
    "    \n",
    "        check_moves_call_func(next_move, moves)\n",
    "\n",
    "\n",
    "        \n",
    "def bottom(position):\n",
    "    global current_position\n",
    "    print('inside bottom', current_position)\n",
    "    global reserved_moves\n",
    "    global valid_answers\n",
    "    current_position -= 1\n",
    "    next_move = [position[0]+1, position[1]]\n",
    "    if (arr[next_move[0]][next_move[1]] == chk[current_position]) and (current_position == len(chk) - 1):\n",
    "        return True\n",
    "    elif (current_position == len(chk) - 1) and (arr[next_move[0]][next_move[1]] != chk[current_position]):\n",
    "        print('first false', arr[next_move[0]][next_move[1]])\n",
    "        return False\n",
    "    elif arr[next_move[0]][next_move[1]] != chk[current_position]:\n",
    "        print('second false')\n",
    "        return False\n",
    "    elif arr[next_move[0]][next_move[1]] == chk[current_position]:\n",
    "        print('inside bottomsssssssssss')\n",
    "#         reserved_moves.append(next_move)\n",
    "        moves = find_moves(next_move)\n",
    "        check_moves_call_func(next_move, moves)\n",
    "        \n",
    "find_start_moves(start_positions)"
   ]
  },
  {
   "cell_type": "code",
   "execution_count": null,
   "metadata": {},
   "outputs": [],
   "source": []
  },
  {
   "cell_type": "code",
   "execution_count": null,
   "metadata": {},
   "outputs": [],
   "source": []
  },
  {
   "cell_type": "code",
   "execution_count": null,
   "metadata": {},
   "outputs": [],
   "source": []
  },
  {
   "cell_type": "code",
   "execution_count": null,
   "metadata": {},
   "outputs": [],
   "source": []
  },
  {
   "cell_type": "code",
   "execution_count": null,
   "metadata": {},
   "outputs": [],
   "source": []
  },
  {
   "cell_type": "code",
   "execution_count": 7,
   "metadata": {},
   "outputs": [
    {
     "data": {
      "text/plain": [
       "True"
      ]
     },
     "execution_count": 7,
     "metadata": {},
     "output_type": "execute_result"
    }
   ],
   "source": [
    "a = [1,2,3]\n",
    "sum(a) == 6.0"
   ]
  },
  {
   "cell_type": "code",
   "execution_count": 9,
   "metadata": {},
   "outputs": [],
   "source": [
    "st = 'hey jude'"
   ]
  },
  {
   "cell_type": "code",
   "execution_count": 10,
   "metadata": {},
   "outputs": [
    {
     "ename": "IndexError",
     "evalue": "string index out of range",
     "output_type": "error",
     "traceback": [
      "\u001b[0;31m---------------------------------------------------------------------------\u001b[0m",
      "\u001b[0;31mIndexError\u001b[0m                                Traceback (most recent call last)",
      "\u001b[0;32m<ipython-input-10-e9b0b79aa52a>\u001b[0m in \u001b[0;36m<module>\u001b[0;34m\u001b[0m\n\u001b[0;32m----> 1\u001b[0;31m \u001b[0mst\u001b[0m\u001b[0;34m[\u001b[0m\u001b[0;36m10\u001b[0m\u001b[0;34m]\u001b[0m\u001b[0;34m\u001b[0m\u001b[0;34m\u001b[0m\u001b[0m\n\u001b[0m",
      "\u001b[0;31mIndexError\u001b[0m: string index out of range"
     ]
    }
   ],
   "source": [
    "st[10]"
   ]
  },
  {
   "cell_type": "code",
   "execution_count": 88,
   "metadata": {},
   "outputs": [
    {
     "name": "stdout",
     "output_type": "stream",
     "text": [
      "[1, 2, 3]\n"
     ]
    }
   ],
   "source": [
    "if 'a' is not True:\n",
    "    print(a)"
   ]
  },
  {
   "cell_type": "code",
   "execution_count": 90,
   "metadata": {},
   "outputs": [
    {
     "data": {
      "text/plain": [
       "[1, 2, 3]"
      ]
     },
     "execution_count": 90,
     "metadata": {},
     "output_type": "execute_result"
    }
   ],
   "source": [
    "a"
   ]
  },
  {
   "cell_type": "code",
   "execution_count": 91,
   "metadata": {},
   "outputs": [
    {
     "data": {
      "text/plain": [
       "False"
      ]
     },
     "execution_count": 91,
     "metadata": {},
     "output_type": "execute_result"
    }
   ],
   "source": [
    "not a"
   ]
  },
  {
   "cell_type": "code",
   "execution_count": 92,
   "metadata": {},
   "outputs": [
    {
     "data": {
      "text/plain": [
       "True"
      ]
     },
     "execution_count": 92,
     "metadata": {},
     "output_type": "execute_result"
    }
   ],
   "source": [
    "not a is False"
   ]
  },
  {
   "cell_type": "code",
   "execution_count": 93,
   "metadata": {},
   "outputs": [
    {
     "data": {
      "text/plain": [
       "True"
      ]
     },
     "execution_count": 93,
     "metadata": {},
     "output_type": "execute_result"
    }
   ],
   "source": [
    "a is not True"
   ]
  },
  {
   "cell_type": "code",
   "execution_count": 94,
   "metadata": {},
   "outputs": [
    {
     "data": {
      "text/plain": [
       "[1, 2, 3]"
      ]
     },
     "execution_count": 94,
     "metadata": {},
     "output_type": "execute_result"
    }
   ],
   "source": [
    "a"
   ]
  },
  {
   "cell_type": "code",
   "execution_count": 95,
   "metadata": {},
   "outputs": [
    {
     "data": {
      "text/plain": [
       "True"
      ]
     },
     "execution_count": 95,
     "metadata": {},
     "output_type": "execute_result"
    }
   ],
   "source": [
    "a is not False"
   ]
  },
  {
   "cell_type": "code",
   "execution_count": 104,
   "metadata": {},
   "outputs": [
    {
     "data": {
      "text/plain": [
       "'e'"
      ]
     },
     "execution_count": 104,
     "metadata": {},
     "output_type": "execute_result"
    }
   ],
   "source": [
    "arr = [['a', 'b', 'c', 'd'],\n",
    "       ['e', 'f', 'e', 'h'],\n",
    "       ['i', 'j', 'k', 'l'],\n",
    "       ['m', 'n', 'o', 'p']]\n",
    "arr[1][0]"
   ]
  },
  {
   "cell_type": "code",
   "execution_count": 153,
   "metadata": {},
   "outputs": [
    {
     "name": "stdout",
     "output_type": "stream",
     "text": [
      "[[2, 1]] iniside find start points\n",
      "[[2, 1]]\n"
     ]
    }
   ],
   "source": [
    "arr = [['a', 'b', 'c', 'd'],\n",
    "       ['e', 'f', 'e', 'h'],\n",
    "       ['i', 'j', 'k', 'l'],\n",
    "       ['m', 'n', 'o', 'p']]\n",
    "\n",
    "chk = 'jfb'\n",
    "\n",
    "current_position = 0\n",
    "\n",
    "reserved_moves = []\n",
    "\n",
    "valid_answers = []\n",
    "\n",
    "def find_start_position():\n",
    "    start_positions = []\n",
    "    for i in range(4):\n",
    "        for j in range(4):\n",
    "            if arr[i][j] == chk[0]:\n",
    "                start_positions.append([i,j])\n",
    "    print(start_positions, 'iniside find start points')\n",
    "    return start_positions\n",
    "\n",
    "\n",
    "start_positions = find_start_position()\n",
    "print(start_positions)"
   ]
  },
  {
   "cell_type": "code",
   "execution_count": null,
   "metadata": {},
   "outputs": [],
   "source": []
  },
  {
   "cell_type": "code",
   "execution_count": null,
   "metadata": {},
   "outputs": [],
   "source": []
  },
  {
   "cell_type": "code",
   "execution_count": null,
   "metadata": {},
   "outputs": [],
   "source": []
  },
  {
   "cell_type": "code",
   "execution_count": null,
   "metadata": {},
   "outputs": [],
   "source": []
  },
  {
   "cell_type": "code",
   "execution_count": null,
   "metadata": {},
   "outputs": [],
   "source": []
  },
  {
   "cell_type": "code",
   "execution_count": null,
   "metadata": {},
   "outputs": [],
   "source": []
  },
  {
   "cell_type": "code",
   "execution_count": null,
   "metadata": {},
   "outputs": [],
   "source": []
  },
  {
   "cell_type": "code",
   "execution_count": 1,
   "metadata": {},
   "outputs": [
    {
     "name": "stdout",
     "output_type": "stream",
     "text": [
      "0\n",
      "5\n",
      "5\n",
      "5\n"
     ]
    }
   ],
   "source": [
    "a = 0\n",
    "for i in range(4):\n",
    "    print(a)\n",
    "    a = 5"
   ]
  },
  {
   "cell_type": "code",
   "execution_count": null,
   "metadata": {},
   "outputs": [],
   "source": []
  },
  {
   "cell_type": "code",
   "execution_count": null,
   "metadata": {},
   "outputs": [],
   "source": []
  },
  {
   "cell_type": "raw",
   "metadata": {},
   "source": [
    "h = 8\n",
    "\n",
    "def x():\n",
    "    global h\n",
    "    print(h+1)\n",
    "    h+=1\n",
    "x()\n",
    "print(h)"
   ]
  },
  {
   "cell_type": "code",
   "execution_count": null,
   "metadata": {},
   "outputs": [],
   "source": [
    "arr = [['a', 'b', 'c', 'd'],\n",
    "       ['e', 'f', 'e', 'h'],\n",
    "       ['i', 'j', 'k', 'l'],\n",
    "       ['m', 'n', 'o', 'p']]\n",
    "\n",
    "chk_str = 'efb'\n",
    "\n",
    "\n",
    "# find the position of string first letter and check the length of array if zero than not valid if not zero than call\n",
    "# find possible step for each position by looping the array\n",
    "\n",
    "\n",
    "\n",
    "else:\n",
    "    for position in starting_position:\n",
    "        # i think there should be loop in here with respect to length of string to check\n",
    "        L = 0\n",
    "        reserved_positions = []\n",
    "        reserved_positions.append(position)\n",
    "        possible_steps = find_possible_steps(position[0], position[1], reserved_positions)\n",
    "        if len(possible_steps) == 0:\n",
    "            # no any possible position to move\n",
    "            continue\n",
    "        else:\n",
    "            \n",
    "            \n",
    "\n",
    "\n",
    "\n",
    "def find_possible_steps(r,c, reserved_positions):\n",
    "    final_possible_steps = []\n",
    "    all_possible_steps = [(r-1, c), (r-1, c+1), (r, c+1), (r+1, c+1), (r+1, c), (r+1, c-1), (r, c-1), (r-1, c-1)]\n",
    "    for step in all_possible_steps:\n",
    "        if step[0]<0 or step[0]>3 or step[1]<0 or step[1]>3 or step in reserved_positions:\n",
    "            continue\n",
    "        else:\n",
    "            if arr[step[0]][step[1]] != check_string[L]:\n",
    "                continue\n",
    "            else:\n",
    "                final_possible_steps.append(step)\n",
    "            \n",
    "    return final_possible_steps\n",
    "\n",
    "\n",
    "\n"
   ]
  },
  {
   "cell_type": "code",
   "execution_count": null,
   "metadata": {},
   "outputs": [],
   "source": [
    "\n",
    "starting_positions = []\n",
    "\n",
    "for r in range(4):\n",
    "    for c in range(4):\n",
    "        if arr[r][c] == check_string[0]:\n",
    "            starting_positions.append([r, c])\n",
    "\n",
    "if len(starting_position) == 0:\n",
    "    return 'Not Valid String'\n",
    "else:\n",
    "    for position in starting_positions:\n",
    "        reserved_position = []\n",
    "        \n",
    "        for i in range(1, len(check_string)):\n",
    "            next_possible_steps = evaluate_each_position(position, reserved_position)\n",
    "            if len(next_possible_steps) == 0:\n",
    "                continue\n",
    "            else:\n",
    "                for step in next_possible_steps:\n",
    "                    \n",
    "#         next_possible_steps = evaluate_each_position(position, reserved_position)\n",
    "\n",
    "#         if len(next_possible_steps) == 0:\n",
    "#             continue\n",
    "#         else:\n",
    "#             for step in next_possible_steps:\n",
    "#                 next_possible_steps2 = evaluate_each_position(step, reserved_position)\n",
    "\n",
    "#                 if len(next_possible_steps) == 0:\n",
    "#                     continue\n",
    "#                 else:\n",
    "#                     for step in next_possible_steps2:\n",
    "\n",
    "\n",
    "def find_next_possible_steps(next_possible_steps)\n",
    "                    "
   ]
  },
  {
   "cell_type": "code",
   "execution_count": null,
   "metadata": {},
   "outputs": [],
   "source": [
    "def evaluate_each_position(position, reserved_position):\n",
    "    reserved_position.append(position)\n",
    "    possible_steps = find_possible_steps(position[0], position[1], reserved_position)\n",
    "    if len(possible_steps) == 0:\n",
    "        return False\n",
    "    else:\n",
    "        next_possible_steps = []\n",
    "        for step in possible_steps:\n",
    "            if arr[step[0]][step[1]] != check_string[len(reserved_position)]:\n",
    "                continue\n",
    "            else:\n",
    "                next_possible_steps.append(step)\n",
    "                \n",
    "    return next_possible_steps\n",
    "                "
   ]
  },
  {
   "cell_type": "code",
   "execution_count": 34,
   "metadata": {},
   "outputs": [
    {
     "name": "stdout",
     "output_type": "stream",
     "text": [
      "else1\n",
      "1 1 [[1, 1]] a\n",
      "else2\n",
      "0 0 [[1, 1], (0, 0)] e\n",
      "else3\n",
      "here31\n",
      "1 0 [[1, 1], (0, 0), (1, 0)] l\n",
      "here32\n",
      "NOt valid string\n"
     ]
    }
   ],
   "source": [
    "# for length of check_string == 4\n",
    "# check_string\n",
    "check_string = 'fael'\n",
    "starting_positions = []\n",
    "\n",
    "arr = [['a', 'b', 'c', 'd'],\n",
    "       ['e', 'f', 'e', 'h'],\n",
    "       ['i', 'y', 'k', 'l'],\n",
    "       ['m', 'n', 'o', 'p']]\n",
    "\n",
    "for r in range(4):\n",
    "    for c in range(4):\n",
    "        if arr[r][c] == check_string[0]:\n",
    "            starting_positions.append([r, c])\n",
    "            \n",
    "\n",
    "def find_possible_steps(r,c, reserved_position):\n",
    "    print(r, c, reserved_position, check_string[len(reserved_position)])\n",
    "    final_possible_steps = []\n",
    "    all_possible_steps = [(r-1, c), (r-1, c+1), (r, c+1), (r+1, c+1), (r+1, c), (r+1, c-1), (r, c-1), (r-1, c-1)]\n",
    "    for step in all_possible_steps:\n",
    "        if step[0]<0 or step[0]>3 or step[1]<0 or step[1]>3 or step in reserved_position:\n",
    "            continue\n",
    "        else:\n",
    "            if arr[step[0]][step[1]] != check_string[len(reserved_position)]:\n",
    "                continue\n",
    "            else:\n",
    "                final_possible_steps.append(step)\n",
    "            \n",
    "    return final_possible_steps            \n",
    "            \n",
    "            \n",
    "if len(starting_positions) == 0:\n",
    "    print('Not Valid String')\n",
    "\n",
    "else:\n",
    "    print('else1')\n",
    "    for position in starting_positions:\n",
    "        reserved_position = [] # e is matched\n",
    "        reserved_position.append(position)\n",
    "        next_possible_steps = find_possible_steps(position[0], position[1], reserved_position)\n",
    "        if len(next_possible_steps) == 0:\n",
    "            reserved_position.pop()\n",
    "            if starting_positions.index(position) == len(starting_positions)-1:\n",
    "                print('not found')\n",
    "            continue\n",
    "        \n",
    "        else:\n",
    "            print('else2')\n",
    "            for step in next_possible_steps:\n",
    "                reserved_position.append(step)\n",
    "                next_possible_steps_2 = find_possible_steps(step[0],step[1], reserved_position)\n",
    "                if len(next_possible_steps_2) == 0:\n",
    "                    reserved_position.pop()\n",
    "                    continue\n",
    "                else: # y is matched from above loop\n",
    "                    print('else3')\n",
    "                    for step2 in next_possible_steps_2:\n",
    "                        reserved_position.append(step2)\n",
    "                        print('here31')\n",
    "                        next_possible_steps_3 = find_possible_steps(step2[0], step2[1], reserved_position)\n",
    "                        print('here32')\n",
    "                        if len(next_possible_steps_3) == 0 and next_possible_steps_2.index(step2) == len(next_possible_steps_2) - 1:\n",
    "                            print('NOt valid string')\n",
    "                            break\n",
    "                        if len(next_possible_steps_3) == 0:\n",
    "                            reserved_position.pop()\n",
    "                            continue\n",
    "                        else: # e is matched of eye\n",
    "                            print('Valid Stringgg')\n",
    "                            break\n",
    "#                             \n",
    "                                \n",
    "                    \n",
    "\n",
    "        \n",
    "\n"
   ]
  },
  {
   "cell_type": "code",
   "execution_count": 52,
   "metadata": {},
   "outputs": [
    {
     "name": "stdout",
     "output_type": "stream",
     "text": [
      "else1\n",
      "e  is matched\n",
      "1 0 [[1, 0]] y\n",
      "else2\n",
      "2 1 [[1, 0], [2, 1]] e\n",
      "else3\n",
      "\n",
      "valid string of 3 letters\n",
      "e  is matched\n",
      "1 2 [[1, 2]] y\n",
      "else2\n",
      "2 1 [[1, 2], [2, 1]] e\n",
      "else3\n",
      "\n",
      "here31\n"
     ]
    },
    {
     "ename": "IndexError",
     "evalue": "string index out of range",
     "output_type": "error",
     "traceback": [
      "\u001b[0;31m---------------------------------------------------------------------------\u001b[0m",
      "\u001b[0;31mIndexError\u001b[0m                                Traceback (most recent call last)",
      "\u001b[0;32m<ipython-input-52-cf224bf86c5d>\u001b[0m in \u001b[0;36m<module>\u001b[0;34m\u001b[0m\n\u001b[1;32m     69\u001b[0m                         \u001b[0mreserved_position\u001b[0m\u001b[0;34m.\u001b[0m\u001b[0mappend\u001b[0m\u001b[0;34m(\u001b[0m\u001b[0mstep2\u001b[0m\u001b[0;34m)\u001b[0m\u001b[0;34m\u001b[0m\u001b[0;34m\u001b[0m\u001b[0m\n\u001b[1;32m     70\u001b[0m                         \u001b[0mprint\u001b[0m\u001b[0;34m(\u001b[0m\u001b[0;34m'here31'\u001b[0m\u001b[0;34m)\u001b[0m\u001b[0;34m\u001b[0m\u001b[0;34m\u001b[0m\u001b[0m\n\u001b[0;32m---> 71\u001b[0;31m                         \u001b[0mnext_possible_steps_3\u001b[0m \u001b[0;34m=\u001b[0m \u001b[0mfind_possible_steps\u001b[0m\u001b[0;34m(\u001b[0m\u001b[0mstep2\u001b[0m\u001b[0;34m[\u001b[0m\u001b[0;36m0\u001b[0m\u001b[0;34m]\u001b[0m\u001b[0;34m,\u001b[0m \u001b[0mstep2\u001b[0m\u001b[0;34m[\u001b[0m\u001b[0;36m1\u001b[0m\u001b[0;34m]\u001b[0m\u001b[0;34m,\u001b[0m \u001b[0mreserved_position\u001b[0m\u001b[0;34m)\u001b[0m\u001b[0;34m\u001b[0m\u001b[0;34m\u001b[0m\u001b[0m\n\u001b[0m\u001b[1;32m     72\u001b[0m                         \u001b[0mprint\u001b[0m\u001b[0;34m(\u001b[0m\u001b[0;34m'here32'\u001b[0m\u001b[0;34m)\u001b[0m\u001b[0;34m\u001b[0m\u001b[0;34m\u001b[0m\u001b[0m\n\u001b[1;32m     73\u001b[0m                         \u001b[0;32mif\u001b[0m \u001b[0mlen\u001b[0m\u001b[0;34m(\u001b[0m\u001b[0mnext_possible_steps_3\u001b[0m\u001b[0;34m)\u001b[0m \u001b[0;34m==\u001b[0m \u001b[0;36m0\u001b[0m \u001b[0;32mand\u001b[0m \u001b[0mnext_possible_steps_2\u001b[0m\u001b[0;34m.\u001b[0m\u001b[0mindex\u001b[0m\u001b[0;34m(\u001b[0m\u001b[0mstep2\u001b[0m\u001b[0;34m)\u001b[0m \u001b[0;34m==\u001b[0m \u001b[0mlen\u001b[0m\u001b[0;34m(\u001b[0m\u001b[0mnext_possible_steps_2\u001b[0m\u001b[0;34m)\u001b[0m \u001b[0;34m-\u001b[0m \u001b[0;36m1\u001b[0m\u001b[0;34m:\u001b[0m\u001b[0;34m\u001b[0m\u001b[0;34m\u001b[0m\u001b[0m\n",
      "\u001b[0;32m<ipython-input-52-cf224bf86c5d>\u001b[0m in \u001b[0;36mfind_possible_steps\u001b[0;34m(r, c, reserved_position)\u001b[0m\n\u001b[1;32m     16\u001b[0m \u001b[0;34m\u001b[0m\u001b[0m\n\u001b[1;32m     17\u001b[0m \u001b[0;32mdef\u001b[0m \u001b[0mfind_possible_steps\u001b[0m\u001b[0;34m(\u001b[0m\u001b[0mr\u001b[0m\u001b[0;34m,\u001b[0m\u001b[0mc\u001b[0m\u001b[0;34m,\u001b[0m \u001b[0mreserved_position\u001b[0m\u001b[0;34m)\u001b[0m\u001b[0;34m:\u001b[0m\u001b[0;34m\u001b[0m\u001b[0;34m\u001b[0m\u001b[0m\n\u001b[0;32m---> 18\u001b[0;31m     \u001b[0mprint\u001b[0m\u001b[0;34m(\u001b[0m\u001b[0mr\u001b[0m\u001b[0;34m,\u001b[0m \u001b[0mc\u001b[0m\u001b[0;34m,\u001b[0m \u001b[0mreserved_position\u001b[0m\u001b[0;34m,\u001b[0m \u001b[0mcheck_string\u001b[0m\u001b[0;34m[\u001b[0m\u001b[0mlen\u001b[0m\u001b[0;34m(\u001b[0m\u001b[0mreserved_position\u001b[0m\u001b[0;34m)\u001b[0m\u001b[0;34m]\u001b[0m\u001b[0;34m)\u001b[0m\u001b[0;34m\u001b[0m\u001b[0;34m\u001b[0m\u001b[0m\n\u001b[0m\u001b[1;32m     19\u001b[0m     \u001b[0mfinal_possible_steps\u001b[0m \u001b[0;34m=\u001b[0m \u001b[0;34m[\u001b[0m\u001b[0;34m]\u001b[0m\u001b[0;34m\u001b[0m\u001b[0;34m\u001b[0m\u001b[0m\n\u001b[1;32m     20\u001b[0m     \u001b[0mall_possible_steps\u001b[0m \u001b[0;34m=\u001b[0m \u001b[0;34m[\u001b[0m\u001b[0;34m[\u001b[0m\u001b[0mr\u001b[0m\u001b[0;34m-\u001b[0m\u001b[0;36m1\u001b[0m\u001b[0;34m,\u001b[0m \u001b[0mc\u001b[0m\u001b[0;34m]\u001b[0m\u001b[0;34m,\u001b[0m \u001b[0;34m[\u001b[0m\u001b[0mr\u001b[0m\u001b[0;34m-\u001b[0m\u001b[0;36m1\u001b[0m\u001b[0;34m,\u001b[0m \u001b[0mc\u001b[0m\u001b[0;34m+\u001b[0m\u001b[0;36m1\u001b[0m\u001b[0;34m]\u001b[0m\u001b[0;34m,\u001b[0m \u001b[0;34m[\u001b[0m\u001b[0mr\u001b[0m\u001b[0;34m,\u001b[0m \u001b[0mc\u001b[0m\u001b[0;34m+\u001b[0m\u001b[0;36m1\u001b[0m\u001b[0;34m]\u001b[0m\u001b[0;34m,\u001b[0m \u001b[0;34m[\u001b[0m\u001b[0mr\u001b[0m\u001b[0;34m+\u001b[0m\u001b[0;36m1\u001b[0m\u001b[0;34m,\u001b[0m \u001b[0mc\u001b[0m\u001b[0;34m+\u001b[0m\u001b[0;36m1\u001b[0m\u001b[0;34m]\u001b[0m\u001b[0;34m,\u001b[0m \u001b[0;34m[\u001b[0m\u001b[0mr\u001b[0m\u001b[0;34m+\u001b[0m\u001b[0;36m1\u001b[0m\u001b[0;34m,\u001b[0m \u001b[0mc\u001b[0m\u001b[0;34m]\u001b[0m\u001b[0;34m,\u001b[0m \u001b[0;34m[\u001b[0m\u001b[0mr\u001b[0m\u001b[0;34m+\u001b[0m\u001b[0;36m1\u001b[0m\u001b[0;34m,\u001b[0m \u001b[0mc\u001b[0m\u001b[0;34m-\u001b[0m\u001b[0;36m1\u001b[0m\u001b[0;34m]\u001b[0m\u001b[0;34m,\u001b[0m \u001b[0;34m[\u001b[0m\u001b[0mr\u001b[0m\u001b[0;34m,\u001b[0m \u001b[0mc\u001b[0m\u001b[0;34m-\u001b[0m\u001b[0;36m1\u001b[0m\u001b[0;34m]\u001b[0m\u001b[0;34m,\u001b[0m \u001b[0;34m[\u001b[0m\u001b[0mr\u001b[0m\u001b[0;34m-\u001b[0m\u001b[0;36m1\u001b[0m\u001b[0;34m,\u001b[0m \u001b[0mc\u001b[0m\u001b[0;34m-\u001b[0m\u001b[0;36m1\u001b[0m\u001b[0;34m]\u001b[0m\u001b[0;34m]\u001b[0m\u001b[0;34m\u001b[0m\u001b[0;34m\u001b[0m\u001b[0m\n",
      "\u001b[0;31mIndexError\u001b[0m: string index out of range"
     ]
    }
   ],
   "source": [
    "# for length of check_string == 4\n",
    "# valid for 4 lenght check string\n",
    "check_string = 'eye'\n",
    "starting_positions = []\n",
    "length = len(check_string)\n",
    "arr = [['a', 'b', 'c', 'd'],\n",
    "       ['e', 'f', 'e', 'h'],\n",
    "       ['i', 'y', 'k', 'l'],\n",
    "       ['m', 'n', 'o', 'p']]\n",
    "\n",
    "for r in range(4):\n",
    "    for c in range(4):\n",
    "        if arr[r][c] == check_string[0]:\n",
    "            starting_positions.append([r, c])\n",
    "            \n",
    "\n",
    "def find_possible_steps(r,c, reserved_position):\n",
    "    print(r, c, reserved_position, check_string[len(reserved_position)])\n",
    "    final_possible_steps = []\n",
    "    all_possible_steps = [[r-1, c], [r-1, c+1], [r, c+1], [r+1, c+1], [r+1, c], [r+1, c-1], [r, c-1], [r-1, c-1]]\n",
    "    for step in all_possible_steps:\n",
    "        if step[0]<0 or step[0]>3 or step[1]<0 or step[1]>3 or step in reserved_position:\n",
    "            continue\n",
    "        else:\n",
    "            if arr[step[0]][step[1]] != check_string[len(reserved_position)]:\n",
    "                continue\n",
    "            else:\n",
    "                final_possible_steps.append(step)\n",
    "            \n",
    "    return final_possible_steps            \n",
    "            \n",
    "            \n",
    "if len(starting_positions) == 0:\n",
    "    print('Not Valid String')\n",
    "\n",
    "else:\n",
    "    print('else1')\n",
    "    length -= 1\n",
    "        \n",
    "    \n",
    "    for position in starting_positions:\n",
    "        reserved_position = [] # e is matched\n",
    "        reserved_position.append(position)\n",
    "        print(check_string[0], ' is matched')\n",
    "        next_possible_steps = find_possible_steps(position[0], position[1], reserved_position)\n",
    "        if len(next_possible_steps) == 0:\n",
    "            reserved_position.pop()\n",
    "            if starting_positions.index(position) == len(starting_positions)-1:\n",
    "                print('not found')\n",
    "            continue\n",
    "        \n",
    "        else:\n",
    "            print('else2')\n",
    "            length -= 1\n",
    "            for step in next_possible_steps:\n",
    "                reserved_position.append(step)\n",
    "                next_possible_steps_2 = find_possible_steps(step[0],step[1], reserved_position)\n",
    "                if len(next_possible_steps_2) == 0:\n",
    "                    reserved_position.pop()\n",
    "                    continue\n",
    "                else: # y is matched from above loop\n",
    "                    print('else3')\n",
    "                    print()\n",
    "                    length -= 1\n",
    "                    if length == 0:\n",
    "                        print(\"valid string of 3 letters\")\n",
    "                        break\n",
    "                    for step2 in next_possible_steps_2:\n",
    "                        reserved_position.append(step2)\n",
    "                        print('here31')\n",
    "                        next_possible_steps_3 = find_possible_steps(step2[0], step2[1], reserved_position)\n",
    "                        print('here32')\n",
    "                        if len(next_possible_steps_3) == 0 and next_possible_steps_2.index(step2) == len(next_possible_steps_2) - 1:\n",
    "                            print('NOt valid string')\n",
    "                            break\n",
    "                        if len(next_possible_steps_3) == 0:\n",
    "                            reserved_position.pop()\n",
    "                            continue\n",
    "                        else: # e is matched of eye\n",
    "                            length -= 1\n",
    "                            print('Valid Stringgg', length)\n",
    "                            break\n",
    "        \n",
    "                                \n",
    "                    \n",
    "\n",
    "        \n",
    "\n"
   ]
  },
  {
   "cell_type": "code",
   "execution_count": 11,
   "metadata": {},
   "outputs": [
    {
     "name": "stdout",
     "output_type": "stream",
     "text": [
      "else1\n",
      "n  is matched\n",
      "3 1 [[3, 1]]\n",
      "[[3, 2]] final possible steps\n",
      "else2\n",
      "o  is matched\n",
      "3 2 [[3, 1], [3, 2]]\n",
      "[[2, 1]] final possible steps\n",
      "else3\n",
      "\n",
      "y  is matched\n",
      "here31\n",
      "2 1 [[3, 1], [3, 2], [2, 1]]\n",
      "[[1, 2], [1, 0]] final possible steps\n",
      "here32\n",
      "Valid Stringgg 0\n"
     ]
    },
    {
     "data": {
      "text/plain": [
       "True"
      ]
     },
     "execution_count": 11,
     "metadata": {},
     "output_type": "execute_result"
    }
   ],
   "source": [
    "arr = [['a', 'b', 'c', 'd'],\n",
    "       ['e', 'f', 'e', 'h'],\n",
    "       ['i', 'y', 'k', 'l'],\n",
    "       ['m', 'n', 'o', 'p']]\n",
    "\n",
    "def find_possible_steps(r,c, reserved_position, check_string):\n",
    "    print(r, c, reserved_position)\n",
    "    final_possible_steps = []\n",
    "    all_possible_steps = [[r-1, c], [r-1, c+1], [r, c+1], [r+1, c+1], [r+1, c], [r+1, c-1], [r, c-1], [r-1, c-1]]\n",
    "    for step in all_possible_steps:\n",
    "        if step[0]<0 or step[0]>3 or step[1]<0 or step[1]>3 or step in reserved_position:\n",
    "            continue\n",
    "        else:\n",
    "            if arr[step[0]][step[1]] != check_string[len(reserved_position)]:\n",
    "                continue\n",
    "            else:\n",
    "                final_possible_steps.append(step)\n",
    "    print(final_possible_steps, 'final possible steps')        \n",
    "    return final_possible_steps\n",
    "\n",
    "\n",
    "\n",
    "def check_string_valid_or_not(check_string):\n",
    "    starting_positions = []\n",
    "    length = len(check_string)\n",
    "    if length <3:\n",
    "        return False\n",
    "    # finding starting position\n",
    "    for r in range(4):\n",
    "        for c in range(4):\n",
    "            if arr[r][c] == check_string[0]:\n",
    "                starting_positions.append([r, c])\n",
    "    if len(starting_positions) == 0:\n",
    "        print('Not Valid String')\n",
    "\n",
    "    else:\n",
    "        print('else1')\n",
    "        length -= 1\n",
    "        for position in starting_positions:\n",
    "            reserved_position = [] # e is matched\n",
    "            reserved_position.append(position)\n",
    "            print(check_string[0], ' is matched')\n",
    "            next_possible_steps = find_possible_steps(position[0], position[1], reserved_position, check_string)\n",
    "            if len(next_possible_steps) == 0:\n",
    "                reserved_position.pop()\n",
    "                if starting_positions.index(position) == len(starting_positions)-1:\n",
    "                    print('not found')\n",
    "                    return False\n",
    "                continue\n",
    "\n",
    "            else:\n",
    "                print('else2')\n",
    "                length -= 1\n",
    "                print(check_string[1], ' is matched')\n",
    "                for step in next_possible_steps:\n",
    "                    reserved_position.append(step)\n",
    "                    next_possible_steps_2 = find_possible_steps(step[0],step[1], reserved_position, check_string)\n",
    "                    if len(next_possible_steps_2) == 0:\n",
    "                        reserved_position.pop()\n",
    "                        if next_possible_steps.index(step) == (len(next_possible_steps) - 1):\n",
    "                            print(check_string[2], ' not matched')\n",
    "                            return False\n",
    "                        continue\n",
    "                    else: # y is matched from above loop\n",
    "                        print('else3')\n",
    "                        print()\n",
    "                        length -= 1\n",
    "                        print(check_string[2] , ' is matched')\n",
    "                        if length == 0:\n",
    "                            print(\"valid string of 3 letters\", next_possible_steps_2)\n",
    "                            return True\n",
    "                        for step2 in next_possible_steps_2:\n",
    "                            reserved_position.append(step2)\n",
    "                            print('here31')\n",
    "                            next_possible_steps_3 = find_possible_steps(step2[0], step2[1], reserved_position, check_string)\n",
    "                            print('here32')\n",
    "                            if len(next_possible_steps_3) == 0 and next_possible_steps_2.index(step2) == (len(next_possible_steps_2) - 1):\n",
    "                                print('NOt valid string')\n",
    "                                return False\n",
    "                            if len(next_possible_steps_3) == 0:\n",
    "                                reserved_position.pop()\n",
    "                                continue\n",
    "                            else: # e is matched of eye\n",
    "                                length -= 1\n",
    "                                print('Valid Stringgg', length)\n",
    "                                return True\n",
    "       \n",
    "\n",
    "check_string_valid_or_not('noye') \n",
    "    "
   ]
  },
  {
   "cell_type": "code",
   "execution_count": null,
   "metadata": {},
   "outputs": [],
   "source": []
  },
  {
   "cell_type": "code",
   "execution_count": null,
   "metadata": {},
   "outputs": [],
   "source": []
  },
  {
   "cell_type": "code",
   "execution_count": null,
   "metadata": {},
   "outputs": [],
   "source": []
  },
  {
   "cell_type": "code",
   "execution_count": null,
   "metadata": {},
   "outputs": [],
   "source": []
  },
  {
   "cell_type": "code",
   "execution_count": null,
   "metadata": {},
   "outputs": [],
   "source": []
  },
  {
   "cell_type": "code",
   "execution_count": null,
   "metadata": {},
   "outputs": [],
   "source": []
  },
  {
   "cell_type": "code",
   "execution_count": 8,
   "metadata": {},
   "outputs": [
    {
     "ename": "ValueError",
     "evalue": "0 is not in list",
     "output_type": "error",
     "traceback": [
      "\u001b[0;31m---------------------------------------------------------------------------\u001b[0m",
      "\u001b[0;31mValueError\u001b[0m                                Traceback (most recent call last)",
      "\u001b[0;32m<ipython-input-8-f9ce8dcf5cbb>\u001b[0m in \u001b[0;36m<module>\u001b[0;34m\u001b[0m\n\u001b[1;32m      1\u001b[0m \u001b[0ma\u001b[0m \u001b[0;34m=\u001b[0m \u001b[0;34m[\u001b[0m\u001b[0;36m1\u001b[0m\u001b[0;34m,\u001b[0m\u001b[0;36m2\u001b[0m\u001b[0;34m,\u001b[0m\u001b[0;36m3\u001b[0m\u001b[0;34m]\u001b[0m\u001b[0;34m\u001b[0m\u001b[0;34m\u001b[0m\u001b[0m\n\u001b[0;32m----> 2\u001b[0;31m \u001b[0ma\u001b[0m\u001b[0;34m.\u001b[0m\u001b[0mindex\u001b[0m\u001b[0;34m(\u001b[0m\u001b[0;36m0\u001b[0m\u001b[0;34m)\u001b[0m\u001b[0;34m\u001b[0m\u001b[0;34m\u001b[0m\u001b[0m\n\u001b[0m",
      "\u001b[0;31mValueError\u001b[0m: 0 is not in list"
     ]
    }
   ],
   "source": [
    "a = [1,2,3]\n",
    "a.index(0)"
   ]
  },
  {
   "cell_type": "code",
   "execution_count": null,
   "metadata": {},
   "outputs": [],
   "source": []
  },
  {
   "cell_type": "code",
   "execution_count": null,
   "metadata": {},
   "outputs": [],
   "source": []
  },
  {
   "cell_type": "code",
   "execution_count": null,
   "metadata": {},
   "outputs": [],
   "source": []
  },
  {
   "cell_type": "code",
   "execution_count": null,
   "metadata": {},
   "outputs": [],
   "source": []
  },
  {
   "cell_type": "code",
   "execution_count": null,
   "metadata": {},
   "outputs": [],
   "source": []
  },
  {
   "cell_type": "code",
   "execution_count": null,
   "metadata": {},
   "outputs": [],
   "source": []
  },
  {
   "cell_type": "code",
   "execution_count": null,
   "metadata": {},
   "outputs": [],
   "source": []
  },
  {
   "cell_type": "code",
   "execution_count": null,
   "metadata": {},
   "outputs": [],
   "source": []
  },
  {
   "cell_type": "code",
   "execution_count": null,
   "metadata": {},
   "outputs": [],
   "source": []
  },
  {
   "cell_type": "code",
   "execution_count": null,
   "metadata": {},
   "outputs": [],
   "source": []
  },
  {
   "cell_type": "code",
   "execution_count": null,
   "metadata": {},
   "outputs": [],
   "source": []
  },
  {
   "cell_type": "code",
   "execution_count": null,
   "metadata": {},
   "outputs": [],
   "source": []
  },
  {
   "cell_type": "code",
   "execution_count": null,
   "metadata": {},
   "outputs": [],
   "source": []
  },
  {
   "cell_type": "code",
   "execution_count": null,
   "metadata": {},
   "outputs": [],
   "source": []
  },
  {
   "cell_type": "code",
   "execution_count": null,
   "metadata": {},
   "outputs": [],
   "source": []
  },
  {
   "cell_type": "code",
   "execution_count": null,
   "metadata": {},
   "outputs": [],
   "source": []
  },
  {
   "cell_type": "code",
   "execution_count": null,
   "metadata": {},
   "outputs": [],
   "source": []
  },
  {
   "cell_type": "code",
   "execution_count": null,
   "metadata": {},
   "outputs": [],
   "source": []
  },
  {
   "cell_type": "code",
   "execution_count": null,
   "metadata": {},
   "outputs": [],
   "source": []
  },
  {
   "cell_type": "code",
   "execution_count": null,
   "metadata": {},
   "outputs": [],
   "source": []
  },
  {
   "cell_type": "code",
   "execution_count": null,
   "metadata": {},
   "outputs": [],
   "source": []
  },
  {
   "cell_type": "code",
   "execution_count": null,
   "metadata": {},
   "outputs": [],
   "source": []
  },
  {
   "cell_type": "code",
   "execution_count": null,
   "metadata": {},
   "outputs": [],
   "source": []
  },
  {
   "cell_type": "code",
   "execution_count": null,
   "metadata": {},
   "outputs": [],
   "source": []
  },
  {
   "cell_type": "code",
   "execution_count": null,
   "metadata": {},
   "outputs": [],
   "source": []
  },
  {
   "cell_type": "code",
   "execution_count": null,
   "metadata": {},
   "outputs": [],
   "source": []
  },
  {
   "cell_type": "code",
   "execution_count": null,
   "metadata": {},
   "outputs": [],
   "source": []
  },
  {
   "cell_type": "code",
   "execution_count": null,
   "metadata": {},
   "outputs": [],
   "source": []
  },
  {
   "cell_type": "code",
   "execution_count": null,
   "metadata": {},
   "outputs": [],
   "source": []
  },
  {
   "cell_type": "code",
   "execution_count": null,
   "metadata": {},
   "outputs": [],
   "source": []
  },
  {
   "cell_type": "code",
   "execution_count": null,
   "metadata": {},
   "outputs": [],
   "source": []
  },
  {
   "cell_type": "code",
   "execution_count": null,
   "metadata": {},
   "outputs": [],
   "source": []
  },
  {
   "cell_type": "code",
   "execution_count": null,
   "metadata": {},
   "outputs": [],
   "source": []
  },
  {
   "cell_type": "code",
   "execution_count": null,
   "metadata": {},
   "outputs": [],
   "source": []
  },
  {
   "cell_type": "code",
   "execution_count": null,
   "metadata": {},
   "outputs": [],
   "source": []
  },
  {
   "cell_type": "code",
   "execution_count": null,
   "metadata": {},
   "outputs": [],
   "source": []
  }
 ],
 "metadata": {
  "kernelspec": {
   "display_name": "Python 3",
   "language": "python",
   "name": "python3"
  },
  "language_info": {
   "codemirror_mode": {
    "name": "ipython",
    "version": 3
   },
   "file_extension": ".py",
   "mimetype": "text/x-python",
   "name": "python",
   "nbconvert_exporter": "python",
   "pygments_lexer": "ipython3",
   "version": "3.7.6"
  }
 },
 "nbformat": 4,
 "nbformat_minor": 4
}
