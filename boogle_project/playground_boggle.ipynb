{
 "cells": [
  {
   "cell_type": "code",
   "execution_count": 1,
   "metadata": {},
   "outputs": [],
   "source": [
    "import numpy as np\n"
   ]
  },
  {
   "cell_type": "code",
   "execution_count": 2,
   "metadata": {},
   "outputs": [
    {
     "data": {
      "text/plain": [
       "<module 'numpy' from '/home/bishal/anaconda3/lib/python3.7/site-packages/numpy/__init__.py'>"
      ]
     },
     "execution_count": 2,
     "metadata": {},
     "output_type": "execute_result"
    }
   ],
   "source": [
    "np"
   ]
  },
  {
   "cell_type": "code",
   "execution_count": 3,
   "metadata": {},
   "outputs": [],
   "source": [
    "a = np.array([['a', 'b', 'c', 'd'], ['e', 'f', 'g', 'h'], ['i', 'j', 'k', 'l'], ['m', 'n', 'o', 'p']])"
   ]
  },
  {
   "cell_type": "code",
   "execution_count": 4,
   "metadata": {},
   "outputs": [
    {
     "data": {
      "text/plain": [
       "array([['a', 'b', 'c', 'd'],\n",
       "       ['e', 'f', 'g', 'h'],\n",
       "       ['i', 'j', 'k', 'l'],\n",
       "       ['m', 'n', 'o', 'p']], dtype='<U1')"
      ]
     },
     "execution_count": 4,
     "metadata": {},
     "output_type": "execute_result"
    }
   ],
   "source": [
    "a"
   ]
  },
  {
   "cell_type": "code",
   "execution_count": 5,
   "metadata": {},
   "outputs": [
    {
     "data": {
      "text/plain": [
       "2"
      ]
     },
     "execution_count": 5,
     "metadata": {},
     "output_type": "execute_result"
    }
   ],
   "source": [
    "a.ndim\n"
   ]
  },
  {
   "cell_type": "code",
   "execution_count": 6,
   "metadata": {},
   "outputs": [
    {
     "data": {
      "text/plain": [
       "dtype('<U1')"
      ]
     },
     "execution_count": 6,
     "metadata": {},
     "output_type": "execute_result"
    }
   ],
   "source": [
    "a.dtype"
   ]
  },
  {
   "cell_type": "code",
   "execution_count": 8,
   "metadata": {},
   "outputs": [],
   "source": [
    "chk = 'efj'\n",
    "valids = ['efj']\n",
    "corrects = []\n"
   ]
  },
  {
   "cell_type": "code",
   "execution_count": 9,
   "metadata": {},
   "outputs": [
    {
     "data": {
      "text/plain": [
       "'e'"
      ]
     },
     "execution_count": 9,
     "metadata": {},
     "output_type": "execute_result"
    }
   ],
   "source": [
    "chk[0]"
   ]
  },
  {
   "cell_type": "code",
   "execution_count": 10,
   "metadata": {},
   "outputs": [
    {
     "data": {
      "text/plain": [
       "array([['a', 'b', 'c', 'd'],\n",
       "       ['e', 'f', 'g', 'h'],\n",
       "       ['i', 'j', 'k', 'l'],\n",
       "       ['m', 'n', 'o', 'p']], dtype='<U1')"
      ]
     },
     "execution_count": 10,
     "metadata": {},
     "output_type": "execute_result"
    }
   ],
   "source": [
    "a\n"
   ]
  },
  {
   "cell_type": "code",
   "execution_count": 14,
   "metadata": {},
   "outputs": [],
   "source": [
    "a[1][2] = 'e'"
   ]
  },
  {
   "cell_type": "code",
   "execution_count": 15,
   "metadata": {},
   "outputs": [
    {
     "data": {
      "text/plain": [
       "array([['a', 'b', 'c', 'd'],\n",
       "       ['e', 'f', 'e', 'h'],\n",
       "       ['i', 'j', 'k', 'l'],\n",
       "       ['m', 'n', 'o', 'p']], dtype='<U1')"
      ]
     },
     "execution_count": 15,
     "metadata": {},
     "output_type": "execute_result"
    }
   ],
   "source": [
    "a"
   ]
  },
  {
   "cell_type": "code",
   "execution_count": 19,
   "metadata": {},
   "outputs": [
    {
     "data": {
      "text/plain": [
       "(4, 4)"
      ]
     },
     "execution_count": 19,
     "metadata": {},
     "output_type": "execute_result"
    }
   ],
   "source": [
    "a.shape"
   ]
  },
  {
   "cell_type": "code",
   "execution_count": 43,
   "metadata": {},
   "outputs": [
    {
     "name": "stdout",
     "output_type": "stream",
     "text": [
      "[[1, 0]]\n",
      "[[1, 0], [1, 2]]\n",
      "[[1, 0], [1, 2]]\n"
     ]
    }
   ],
   "source": [
    "start_points = []\n",
    "for i in range(a.shape[0]):\n",
    "    for j in range(a.shape[1]):\n",
    "#         print(i, j)\n",
    "#         print(a[i][j])\n",
    "        if a[i][j] == chk[0]:\n",
    "#             print(i,j)\n",
    "            start_points.append([i,j])\n",
    "            print(start_points)\n",
    "print(start_points)\n"
   ]
  },
  {
   "cell_type": "code",
   "execution_count": 49,
   "metadata": {},
   "outputs": [
    {
     "name": "stdout",
     "output_type": "stream",
     "text": [
      "[1, 1, 0, 1]\n"
     ]
    }
   ],
   "source": [
    "if len(start_points) == 0:\n",
    "    print('no match, EXIT')\n",
    "moves = [1, 1, 1, 1] # [top, bottom, left, right]\n",
    "for place in start_points:\n",
    "    if place[0] == 0:\n",
    "        moves[0] = 0\n",
    "    elif place[0] == 3:\n",
    "        moves[1] = 0\n",
    "    if place[1] == 0:\n",
    "        moves[2] = 0\n",
    "    elif place[1] == 3:\n",
    "        moves[3] = 0\n",
    "    print(moves)\n",
    "    break"
   ]
  },
  {
   "cell_type": "code",
   "execution_count": 48,
   "metadata": {},
   "outputs": [],
   "source": [
    "def find_moves(place, reserved_moves):\n",
    "    moves = [1, 1, 1, 1]\n",
    "    if place[0] == 0:\n",
    "        moves[0] = 0\n",
    "    elif place[0] == 3:\n",
    "        moves[1] = 0\n",
    "    if place[1] == 0:\n",
    "        moves[2] = 0\n",
    "    elif place[1] == 3:\n",
    "        moves[3] = 0\n",
    "    return moves\n",
    "    "
   ]
  },
  {
   "cell_type": "code",
   "execution_count": 51,
   "metadata": {},
   "outputs": [],
   "source": [
    "arr = a"
   ]
  },
  {
   "cell_type": "code",
   "execution_count": null,
   "metadata": {},
   "outputs": [],
   "source": [
    "def top(chk, arr, post, reserved_moves):\n",
    "#     moves = [1,1,1,1]\n",
    "    \n",
    "    reserved_moves.append(post)\n",
    "    next_move = [post[0]-1, post[1]]\n",
    "    if arr[next_move[0], next_move[1]] == chk[1]:\n",
    "        reserved_moves.append(next_move)\n",
    "        moves = find_moves(next_move, reserved_moves)\n",
    "        check_moves_call_func(moves)\n",
    "        \n",
    "    "
   ]
  },
  {
   "cell_type": "code",
   "execution_count": 55,
   "metadata": {},
   "outputs": [
    {
     "data": {
      "text/plain": [
       "True"
      ]
     },
     "execution_count": 55,
     "metadata": {},
     "output_type": "execute_result"
    }
   ],
   "source": [
    "arr[1][1] == arr[1,1]"
   ]
  },
  {
   "cell_type": "code",
   "execution_count": 60,
   "metadata": {},
   "outputs": [],
   "source": [
    "n = [1,1]"
   ]
  },
  {
   "cell_type": "code",
   "execution_count": 65,
   "metadata": {},
   "outputs": [
    {
     "data": {
      "text/plain": [
       "array([['e', 'f', 'e', 'h'],\n",
       "       ['e', 'f', 'e', 'h']], dtype='<U1')"
      ]
     },
     "execution_count": 65,
     "metadata": {},
     "output_type": "execute_result"
    }
   ],
   "source": [
    "arr[np.array(n)]"
   ]
  },
  {
   "cell_type": "code",
   "execution_count": null,
   "metadata": {},
   "outputs": [],
   "source": []
  },
  {
   "cell_type": "code",
   "execution_count": null,
   "metadata": {},
   "outputs": [],
   "source": [
    "def check_moves_call_func(moves):\n",
    "    if moves[0] == 1:\n",
    "        top()\n",
    "    if move[1] == 1:\n",
    "        bottom()\n",
    "    if moves[2] == 1:\n",
    "        left()\n",
    "    if moves[3] == 1:\n",
    "        right()"
   ]
  },
  {
   "cell_type": "code",
   "execution_count": null,
   "metadata": {},
   "outputs": [],
   "source": [
    "\n",
    "\n"
   ]
  },
  {
   "cell_type": "code",
   "execution_count": 66,
   "metadata": {},
   "outputs": [],
   "source": [
    "arr = [['a', 'b', 'c', 'd'],\n",
    "       ['e', 'f', 'e', 'h'],\n",
    "       ['i', 'j', 'k', 'l'],\n",
    "       ['m', 'n', 'o', 'p']]\n",
    "\n",
    "chk = 'efj'\n",
    "\n",
    "current_position = 0\n",
    "\n",
    "reserved_moves = []\n",
    "\n",
    "valid_answers = []\n",
    "\n",
    "def find_start_position():\n",
    "    start_points = []\n",
    "    for i in range(arr.shape[0]):\n",
    "        for j in range(arr.shape[1]):\n",
    "    #         print(i, j)\n",
    "    #         print(a[i][j])\n",
    "            if arr[i][j] == chk[0]:\n",
    "    #             print(i,j)\n",
    "                start_points.append([i,j])\n",
    "                print(start_points)\n",
    "    return start_points\n",
    "\n",
    "\n",
    "start_positions = find_start_position()\n",
    "\n",
    "\n",
    "def find_moves(position):\n",
    "    moves = [1, 1, 1, 1] # top, bottom, left, right\n",
    "    if position[0] == 0:\n",
    "        moves[0] = 0\n",
    "    elif position[0] == 3:\n",
    "        moves[1] = 0\n",
    "    if position[1] == 0:\n",
    "        moves[2] = 0\n",
    "    elif position[1] == 3:\n",
    "        moves[3] = 0\n",
    "    return moves\n",
    "\n",
    "\n",
    "def check_moves_call_func(position, moves):\n",
    "    global current_position\n",
    "    global reserved_moves\n",
    "    if position not in reserved_moves:\n",
    "        if (current_position + 1) <= (len(chk) - 1):\n",
    "            if moves[0] == 1:\n",
    "                current_position += 1\n",
    "                value = top(position)\n",
    "                return value\n",
    "                current_position -= 1\n",
    "#             if moves[1] == 1:\n",
    "#                 current_position += 1\n",
    "#                 bottom(position)\n",
    "#                 current_position -= 1\n",
    "#             if moves[2] == 1:\n",
    "#                 current_position += 1\n",
    "#                 left(position)\n",
    "#                 current_position -= 1\n",
    "#             if moves[3] == 1:\n",
    "#                 current_position += 1\n",
    "#                 right(position)\n",
    "#                 current_position -= 1\n",
    "    else:\n",
    "        return False\n",
    "            \n",
    "def find_start_moves(start_positions):\n",
    "    global reserved_moves\n",
    "    if len(start_points) == 0:\n",
    "        return None\n",
    "    for position in start_points:\n",
    "        reserved_moves.append(position)\n",
    "        moves = find_moves(position)\n",
    "        value = check_moves_call_func(position, moves)\n",
    "        if value is False:\n",
    "            continue\n",
    "        elif value is True:\n",
    "            valid_answers.append(chk)\n",
    "            \n",
    "            \n",
    "        \n",
    "        \n",
    "def top(position):\n",
    "    global reserved_moves\n",
    "    global current_position\n",
    "    global valid_answers\n",
    "    \n",
    "    next_move = [position[0]-1, position[1]]\n",
    "    if (arr[next_move[0]][next_move[1]] == chk[current_position]) and (current_position == len(chk) - 1):\n",
    "        return True\n",
    "    elif (current_position == len(chk) - 1) and (arr[next_move[0]][next_move[1]] != chk[current_position]):\n",
    "        return False\n",
    "    elif arr[next_move[0]][next_move[1]] == chk[current_position]:\n",
    "        reserved_moves.append(next_move)\n",
    "        moves = find_moves(next_move, reserved_moves)\n",
    "        value = check_moves_call_func(moves)\n",
    "        if value is True:\n",
    "            valid_answers.append(chk)\n",
    "        elif value is False:\n",
    "            valid_answers\n",
    "            \n",
    "    else:\n",
    "        return 'continue'\n",
    "\n",
    "    \n",
    "\n",
    "# def bottom(position):\n",
    "#     global reserved_moves\n",
    "#     global current_position\n",
    "    \n",
    "#     next_move = [position[0]+1, position[1]]\n",
    "#     if (arr[next_move[0]][next_move[1]] == chk[current_position]) and (current_position == len(chk) - 1):\n",
    "#         return True\n",
    "#     elif (current_position == len(chk) - 1) and (arr[next_move[0]][next_move[1]] != chk[current_position]):\n",
    "#         return False\n",
    "#     elif arr[next_move[0]][next_move[1]] == chk[current_position]:\n",
    "#         reserved_moves.append(next_move)\n",
    "#         moves = find_moves(next_move, reserved_moves)\n",
    "#         check_moves_call_func(moves)\n",
    "#     else:\n",
    "#         return 'continue'\n",
    "\n",
    "  \n",
    "        \n",
    "        \n",
    "        \n",
    "    "
   ]
  },
  {
   "cell_type": "code",
   "execution_count": 79,
   "metadata": {},
   "outputs": [
    {
     "data": {
      "text/plain": [
       "True"
      ]
     },
     "execution_count": 79,
     "metadata": {},
     "output_type": "execute_result"
    }
   ],
   "source": [
    "a = [1,2,3]\n",
    "sum(a) == 6.0"
   ]
  },
  {
   "cell_type": "code",
   "execution_count": 88,
   "metadata": {},
   "outputs": [
    {
     "name": "stdout",
     "output_type": "stream",
     "text": [
      "[1, 2, 3]\n"
     ]
    }
   ],
   "source": [
    "if 'a' is not True:\n",
    "    print(a)"
   ]
  },
  {
   "cell_type": "code",
   "execution_count": null,
   "metadata": {},
   "outputs": [],
   "source": []
  },
  {
   "cell_type": "code",
   "execution_count": null,
   "metadata": {},
   "outputs": [],
   "source": []
  },
  {
   "cell_type": "code",
   "execution_count": null,
   "metadata": {},
   "outputs": [],
   "source": []
  },
  {
   "cell_type": "code",
   "execution_count": null,
   "metadata": {},
   "outputs": [],
   "source": []
  },
  {
   "cell_type": "code",
   "execution_count": null,
   "metadata": {},
   "outputs": [],
   "source": []
  },
  {
   "cell_type": "code",
   "execution_count": null,
   "metadata": {},
   "outputs": [],
   "source": []
  },
  {
   "cell_type": "code",
   "execution_count": null,
   "metadata": {},
   "outputs": [],
   "source": []
  },
  {
   "cell_type": "code",
   "execution_count": null,
   "metadata": {},
   "outputs": [],
   "source": []
  },
  {
   "cell_type": "code",
   "execution_count": null,
   "metadata": {},
   "outputs": [],
   "source": []
  },
  {
   "cell_type": "code",
   "execution_count": null,
   "metadata": {},
   "outputs": [],
   "source": []
  },
  {
   "cell_type": "code",
   "execution_count": null,
   "metadata": {},
   "outputs": [],
   "source": []
  },
  {
   "cell_type": "code",
   "execution_count": null,
   "metadata": {},
   "outputs": [],
   "source": []
  },
  {
   "cell_type": "code",
   "execution_count": null,
   "metadata": {},
   "outputs": [],
   "source": []
  },
  {
   "cell_type": "code",
   "execution_count": null,
   "metadata": {},
   "outputs": [],
   "source": []
  },
  {
   "cell_type": "code",
   "execution_count": null,
   "metadata": {},
   "outputs": [],
   "source": []
  },
  {
   "cell_type": "code",
   "execution_count": null,
   "metadata": {},
   "outputs": [],
   "source": []
  },
  {
   "cell_type": "code",
   "execution_count": null,
   "metadata": {},
   "outputs": [],
   "source": []
  },
  {
   "cell_type": "code",
   "execution_count": null,
   "metadata": {},
   "outputs": [],
   "source": []
  },
  {
   "cell_type": "raw",
   "metadata": {},
   "source": [
    "h = 8\n",
    "\n",
    "def x():\n",
    "    global h\n",
    "    print(h+1)\n",
    "    h+=1\n",
    "x()\n",
    "print(h)"
   ]
  },
  {
   "cell_type": "code",
   "execution_count": null,
   "metadata": {},
   "outputs": [],
   "source": []
  },
  {
   "cell_type": "code",
   "execution_count": null,
   "metadata": {},
   "outputs": [],
   "source": []
  },
  {
   "cell_type": "code",
   "execution_count": null,
   "metadata": {},
   "outputs": [],
   "source": []
  },
  {
   "cell_type": "code",
   "execution_count": null,
   "metadata": {},
   "outputs": [],
   "source": []
  }
 ],
 "metadata": {
  "kernelspec": {
   "display_name": "Python 3",
   "language": "python",
   "name": "python3"
  },
  "language_info": {
   "codemirror_mode": {
    "name": "ipython",
    "version": 3
   },
   "file_extension": ".py",
   "mimetype": "text/x-python",
   "name": "python",
   "nbconvert_exporter": "python",
   "pygments_lexer": "ipython3",
   "version": "3.7.6"
  }
 },
 "nbformat": 4,
 "nbformat_minor": 4
}
